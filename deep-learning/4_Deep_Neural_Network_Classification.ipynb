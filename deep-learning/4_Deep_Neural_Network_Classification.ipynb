{
  "cells": [
    {
      "cell_type": "markdown",
      "metadata": {
        "id": "vTLhUAwbObCP"
      },
      "source": [
        "# Deep Neural Network for MultiClass Classification\n",
        "\n",
        "## Stage 1: We load the data and required libraries.\n",
        "\n",
        "For this example, we use the dataset MNIST, which configures a problem of multiclass clasification (10 classes). The idea is to predict a number (0-9) form 28x28 images."
      ]
    },
    {
      "cell_type": "code",
      "execution_count": 1,
      "metadata": {
        "id": "tdVwj-msQbDH"
      },
      "outputs": [],
      "source": [
        "import matplotlib.pyplot as plt\n",
        "\n",
        "import torch\n",
        "from torch import nn\n",
        "from torch.utils.data import DataLoader, Dataset\n",
        "from torchvision import datasets\n",
        "from torchvision.transforms import ToTensor"
      ]
    },
    {
      "cell_type": "code",
      "execution_count": 2,
      "metadata": {
        "colab": {
          "base_uri": "https://localhost:8080/"
        },
        "id": "C3qGwt9qQRDa",
        "outputId": "5285399d-e6ee-4aaa-8e2f-d66af906bdae"
      },
      "outputs": [
        {
          "name": "stderr",
          "output_type": "stream",
          "text": [
            "100%|██████████| 9.91M/9.91M [00:23<00:00, 429kB/s]\n",
            "100%|██████████| 28.9k/28.9k [00:00<00:00, 278kB/s]\n",
            "100%|██████████| 1.65M/1.65M [00:02<00:00, 731kB/s]\n",
            "100%|██████████| 4.54k/4.54k [00:00<00:00, 987kB/s]\n"
          ]
        }
      ],
      "source": [
        "# MNIST dataset is available in pytorch\n",
        "\n",
        "training_data = datasets.MNIST(\n",
        "    root=\"data\",\n",
        "    train=True,\n",
        "    download=True,\n",
        "    transform=ToTensor()\n",
        ")\n",
        "\n",
        "test_data = datasets.MNIST(\n",
        "    root=\"data\",\n",
        "    train=False,\n",
        "    download=True,\n",
        "    transform=ToTensor()\n",
        ")"
      ]
    },
    {
      "cell_type": "code",
      "execution_count": 3,
      "metadata": {
        "colab": {
          "base_uri": "https://localhost:8080/"
        },
        "id": "J-MBFOb-aJ2j",
        "outputId": "92d077f4-3707-483c-e033-6ea0b0c849b0"
      },
      "outputs": [
        {
          "name": "stdout",
          "output_type": "stream",
          "text": [
            "torch.Size([1, 28, 28]) 5\n"
          ]
        }
      ],
      "source": [
        "# Showing some examples\n",
        "img, label = training_data[0]\n",
        "print(img.shape, label)"
      ]
    },
    {
      "cell_type": "code",
      "execution_count": 5,
      "metadata": {
        "colab": {
          "base_uri": "https://localhost:8080/",
          "height": 675
        },
        "id": "JZVZFB01WzaJ",
        "outputId": "7d590e9c-8337-4795-f793-800ea9a0cf88"
      },
      "outputs": [
        {
          "data": {
            "image/png": "[encoded data removed]",
            "text/plain": [
              "<Figure size 800x800 with 9 Axes>"
            ]
          },
          "metadata": {},
          "output_type": "display_data"
        }
      ],
      "source": [
        "labels_map = {\n",
        "    0: \"0\",\n",
        "    1: \"1\",\n",
        "    2: \"2\",\n",
        "    3: \"3\",\n",
        "    4: \"4\",\n",
        "    5: \"5\",\n",
        "    6: \"6\",\n",
        "    7: \"7\",\n",
        "    8: \"8\",\n",
        "    9: \"9\",\n",
        "}\n",
        "figure = plt.figure(figsize=(8, 8))\n",
        "cols, rows = 3, 3\n",
        "for i in range(1, cols * rows + 1):\n",
        "    sample_idx = torch.randint(len(training_data), size=(1,)).item()\n",
        "    img, label = training_data[sample_idx]\n",
        "    figure.add_subplot(rows, cols, i)\n",
        "    plt.title(labels_map[label])\n",
        "    plt.axis(\"off\")\n",
        "    plt.imshow(img.squeeze(), cmap=\"gray\")\n",
        "plt.show()"
      ]
    },
    {
      "cell_type": "code",
      "execution_count": 6,
      "metadata": {
        "id": "HyC3MnK9apso"
      },
      "outputs": [],
      "source": [
        "# We define an object to load the data\n",
        "train_dataloader = DataLoader(training_data, batch_size=64, shuffle=True)\n",
        "test_dataloader = DataLoader(test_data, batch_size=64, shuffle=True)"
      ]
    },
    {
      "cell_type": "markdown",
      "metadata": {
        "id": "S2k0cdeTZGb6"
      },
      "source": [
        "## Stage 2: Deep Neural Network definiton."
      ]
    },
    {
      "cell_type": "code",
      "execution_count": 7,
      "metadata": {
        "colab": {
          "base_uri": "https://localhost:8080/"
        },
        "id": "PHy4NTLLNPbW",
        "outputId": "c847bfe8-5b79-4753-c1ca-f1a4a01be891"
      },
      "outputs": [
        {
          "name": "stdout",
          "output_type": "stream",
          "text": [
            "mps\n"
          ]
        }
      ],
      "source": [
        "# We do this to use the GPU (if we only use CPU, the training will take a lot of time)\n",
        "#device = torch.device('cuda:0' if torch.cuda.is_available() else 'cpu')\n",
        "device = torch.device(\"mps\")\n",
        "\n",
        "# Assuming that we are on a CUDA machine, this should print a CUDA device:\n",
        "print(device)"
      ]
    },
    {
      "cell_type": "code",
      "execution_count": 8,
      "metadata": {
        "id": "_axaOIzda0mS"
      },
      "outputs": [],
      "source": [
        "class NeuralNetwork(nn.Module):\n",
        "    def __init__(self):\n",
        "        super().__init__()\n",
        "        self.flatten = nn.Flatten() # Originally, the inputs were 28x28 images;\n",
        "        # however, the fully connected networks cannot handle images. Hence, we\n",
        "        # perform an initial operation called flatten to convert the images into\n",
        "        # vectors. For example, since we have 28x28 images, the resultant vector\n",
        "        # will have a dimension of 28*28=784.\n",
        "        # See https://www.w3resource.com/numpy/manipulation/ndarray-flatten.php\n",
        "        self.linear_relu_stack = nn.Sequential(\n",
        "            nn.Linear(28*28, 32), # The input layer has 28*28 units.\n",
        "            nn.ReLU(),\n",
        "            nn.Linear(32, 16),\n",
        "            nn.ReLU(),\n",
        "            nn.Linear(16, 10), # Note that the output layer has 10 units, Also\n",
        "            # notice that we don't use any activation. This is because the loss\n",
        "            # function computes the Softmax function internally.\n",
        "        )\n",
        "\n",
        "    def forward(self, x):\n",
        "        # This method is used to compute the output given a particular input x.\n",
        "        x = self.flatten(x)\n",
        "        logits = self.linear_relu_stack(x)\n",
        "        return logits"
      ]
    },
    {
      "cell_type": "code",
      "execution_count": 12,
      "metadata": {
        "colab": {
          "base_uri": "https://localhost:8080/"
        },
        "id": "2QyZYzF7feK4",
        "outputId": "18315853-5372-4007-ada4-a5eca57cc8e8"
      },
      "outputs": [
        {
          "name": "stdout",
          "output_type": "stream",
          "text": [
            "NeuralNetwork(\n",
            "  (flatten): Flatten(start_dim=1, end_dim=-1)\n",
            "  (linear_relu_stack): Sequential(\n",
            "    (0): Linear(in_features=784, out_features=32, bias=True)\n",
            "    (1): ReLU()\n",
            "    (2): Linear(in_features=32, out_features=16, bias=True)\n",
            "    (3): ReLU()\n",
            "    (4): Linear(in_features=16, out_features=10, bias=True)\n",
            "  )\n",
            ")\n"
          ]
        }
      ],
      "source": [
        "# WE can verify the built network\n",
        "model = NeuralNetwork()\n",
        "model.to(device) # This is to define the model in the GPU\n",
        "print(model)\n"
      ]
    },
    {
      "cell_type": "code",
      "execution_count": 13,
      "metadata": {
        "id": "_XbJwSjCcdGx"
      },
      "outputs": [],
      "source": [
        "# WE define the hyperparameters and the loss function\n",
        "learning_rate = 0.05\n",
        "epochs = 20\n",
        "loss_fn = nn.CrossEntropyLoss()\n",
        "optimizer = torch.optim.SGD(model.parameters(), lr=learning_rate)"
      ]
    },
    {
      "cell_type": "code",
      "execution_count": 14,
      "metadata": {
        "colab": {
          "base_uri": "https://localhost:8080/"
        },
        "id": "Oup0nQ6QcVqx",
        "outputId": "4fe232d2-8d49-4295-b5a7-3feb60397495"
      },
      "outputs": [
        {
          "name": "stdout",
          "output_type": "stream",
          "text": [
            "epoch 1 loss: 0.2887 test_loss: 0.3370\n",
            "epoch 2 loss: 0.0702 test_loss: 0.2846\n",
            "epoch 3 loss: 0.3040 test_loss: 0.2234\n",
            "epoch 4 loss: 0.1781 test_loss: 0.1813\n",
            "epoch 5 loss: 0.0843 test_loss: 0.1644\n",
            "epoch 6 loss: 0.1508 test_loss: 0.1578\n",
            "epoch 7 loss: 0.0490 test_loss: 0.1352\n",
            "epoch 8 loss: 0.2463 test_loss: 0.1321\n",
            "epoch 9 loss: 0.0520 test_loss: 0.1314\n",
            "epoch 10 loss: 0.0470 test_loss: 0.1216\n",
            "epoch 11 loss: 0.1822 test_loss: 0.1208\n",
            "epoch 12 loss: 0.2996 test_loss: 0.1226\n",
            "epoch 13 loss: 0.0474 test_loss: 0.1137\n",
            "epoch 14 loss: 0.0410 test_loss: 0.1040\n",
            "epoch 15 loss: 0.0464 test_loss: 0.1053\n",
            "epoch 16 loss: 0.0141 test_loss: 0.1041\n",
            "epoch 17 loss: 0.0167 test_loss: 0.1061\n",
            "epoch 18 loss: 0.0219 test_loss: 0.1074\n",
            "epoch 19 loss: 0.0455 test_loss: 0.1215\n",
            "epoch 20 loss: 0.0095 test_loss: 0.1025\n"
          ]
        }
      ],
      "source": [
        "# The optimization loop.\n",
        "\n",
        "loss_tr = []\n",
        "loss_te = []\n",
        "for epoch in range(epochs):\n",
        "  for x, y in train_dataloader:\n",
        "    # The variable should be sent to the GPU\n",
        "    x = x.to(device)\n",
        "    y = y.to(device)\n",
        "    # Make predictions\n",
        "    model.train()\n",
        "    y_pred = model(x)\n",
        "    # Compute the loss of current predictions\n",
        "    loss = loss_fn(y_pred, y)\n",
        "    # Clean the gradients\n",
        "    optimizer.zero_grad()\n",
        "    # Perform backpropagation\n",
        "    loss.backward()\n",
        "    # update weights\n",
        "    optimizer.step()\n",
        "    # Storing the training and test losses\n",
        "    loss_tr.append(loss.item())\n",
        "    loss_test = 0\n",
        "  # since we're not training, we don't need to calculate the gradients for our outputs\n",
        "  with torch.no_grad():\n",
        "    for data in test_dataloader:\n",
        "        images, labels = data\n",
        "        images = images.to(device)\n",
        "        labels = labels.to(device)\n",
        "        # calculate outputs by running images through the network\n",
        "        outputs = model(images)\n",
        "        loss_test += loss_fn(outputs, labels).item() * labels.size(0)\n",
        "\n",
        "  loss_te.append(loss_test/len(test_dataloader.dataset))\n",
        "  print(\"epoch {} loss: {:.4f} test_loss: {:.4f}\".format(epoch + 1,loss.item(),loss_test/len(test_dataloader.dataset)))"
      ]
    },
    {
      "cell_type": "code",
      "execution_count": 15,
      "metadata": {
        "colab": {
          "base_uri": "https://localhost:8080/",
          "height": 430
        },
        "id": "4FbFAOu5ZUx5",
        "outputId": "91ae2576-db4b-4c4f-a016-5263f591b491"
      },
      "outputs": [
        {
          "data": {
            "image/png": "[encoded data removed]",
            "text/plain": [
              "<Figure size 640x480 with 1 Axes>"
            ]
          },
          "metadata": {},
          "output_type": "display_data"
        }
      ],
      "source": [
        "# Plot the losses for the train and test sets\n",
        "import numpy as np\n",
        "plt.plot(loss_tr)\n",
        "plt.plot(np.arange(1,21)*len(train_dataloader.dataset)//64,loss_te, 'r*')\n",
        "plt.show()"
      ]
    },
    {
      "cell_type": "code",
      "execution_count": 16,
      "metadata": {
        "colab": {
          "base_uri": "https://localhost:8080/"
        },
        "id": "nwjERJAfb58d",
        "outputId": "dccfdb1c-2be4-4182-8db8-14891202898b"
      },
      "outputs": [
        {
          "name": "stdout",
          "output_type": "stream",
          "text": [
            "Accuracy of the network on the 10000 test images: 97 %\n"
          ]
        }
      ],
      "source": [
        "correct = 0\n",
        "total = 0\n",
        "# since we're not training, we don't need to calculate the gradients for our outputs\n",
        "with torch.no_grad():\n",
        "    for data in test_dataloader:\n",
        "        images, labels = data\n",
        "        images = images.to(device)\n",
        "        labels = labels.to(device)\n",
        "        # calculate outputs by running images through the network\n",
        "        outputs = model(images)\n",
        "        # the class with the highest energy is what we choose as prediction\n",
        "        _, predicted = torch.max(outputs.data, 1)\n",
        "        total += labels.size(0)\n",
        "        correct += (predicted == labels).sum().item()\n",
        "\n",
        "print(f'Accuracy of the network on the 10000 test images: {100 * correct // total} %')"
      ]
    }
  ],
  "metadata": {
    "accelerator": "GPU",
    "colab": {
      "gpuType": "T4",
      "provenance": []
    },
    "kernelspec": {
      "display_name": "Python 3",
      "name": "python3"
    },
    "language_info": {
      "codemirror_mode": {
        "name": "ipython",
        "version": 3
      },
      "file_extension": ".py",
      "mimetype": "text/x-python",
      "name": "python",
      "nbconvert_exporter": "python",
      "pygments_lexer": "ipython3",
      "version": "3.9.7"
    }
  },
  "nbformat": 4,
  "nbformat_minor": 0
}

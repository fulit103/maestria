{
 "cells": [
  {
   "cell_type": "markdown",
   "metadata": {},
   "source": [
    "An empty network with multiple inputs"
   ]
  },
  {
   "cell_type": "code",
   "execution_count": 3,
   "metadata": {},
   "outputs": [
    {
     "name": "stdout",
     "output_type": "stream",
     "text": [
      "0.8600000000000001\n"
     ]
    }
   ],
   "source": [
    "def w_sum(a,b):\n",
    "    assert(len(a) == len(b))\n",
    "    output = 0\n",
    "    for i in range(len(a)): \n",
    "        output += (a[i] * b[i])\n",
    "    return output\n",
    "\n",
    "weights = [0.1, 0.2, -.1]\n",
    "\n",
    "def neural_network(input, weights): \n",
    "    pred = w_sum(input,weights) # prediction is the weighted sum of the inputs\n",
    "    return pred\n",
    "\n",
    "input = [8.5, 0.65, 1.2]\n",
    "pred = neural_network(input, weights)\n",
    "print(pred)"
   ]
  },
  {
   "cell_type": "markdown",
   "metadata": {},
   "source": [
    "PREDICT + COMPARE: Making a prediction, and calculating error and delta"
   ]
  },
  {
   "cell_type": "code",
   "execution_count": 7,
   "metadata": {},
   "outputs": [
    {
     "name": "stdout",
     "output_type": "stream",
     "text": [
      "Input: \n",
      "[8.5, 0.65, 1.2]\n",
      "Predictions\n",
      "0.8600000000000001\n",
      "Error:\n",
      "0.01959999999999997\n",
      "Delta\n",
      "-0.1399999999999999\n"
     ]
    }
   ],
   "source": [
    "# featurs\n",
    "toes = [8.5 , 9.5, 9.9, 9.0]\n",
    "wlrec = [0.65, 0.8, 0.8, 0.9] # win and loss\n",
    "nfans = [1.2 , 1.3, 0.5, 1.0]\n",
    "\n",
    "# target value\n",
    "win_or_lose_binary = [1, 1, 0, 1]\n",
    "\n",
    "true = win_or_lose_binary[0]\n",
    "input = [toes[0], wlrec[0], nfans[0]]\n",
    "\n",
    "print(\"Input: \")\n",
    "print(input)\n",
    "\n",
    "pred = neural_network(input, weights)\n",
    "\n",
    "print(\"Predictions\")\n",
    "print(pred)\n",
    "\n",
    "error = (pred - true) ** 2\n",
    "delta = pred - true\n",
    "\n",
    "print(\"Error:\")\n",
    "print(error)\n",
    "print(\"Delta\")\n",
    "print(delta)"
   ]
  },
  {
   "cell_type": "markdown",
   "metadata": {},
   "source": [
    "LEARN: Calculating each weight_delta and putting it on each weight"
   ]
  },
  {
   "cell_type": "code",
   "execution_count": 10,
   "metadata": {},
   "outputs": [
    {
     "name": "stdout",
     "output_type": "stream",
     "text": [
      "Pred\n",
      "0.8600000000000001\n",
      "Error\n",
      "0.01959999999999997\n",
      "Delta\n",
      "-0.1399999999999999\n",
      "WeightDeltas\n",
      "[-1.189999999999999, -0.09099999999999994, -0.16799999999999987]\n"
     ]
    }
   ],
   "source": [
    "def ele_mul(number, vector):\n",
    "    \"\"\"\n",
    "    Multiplies each element of the vector by the given number.\n",
    "\n",
    "    Args:\n",
    "    number (float): The number to multiply with each element of the vector.\n",
    "    vector (list of float): The vector whose elements are to be multiplied.\n",
    "\n",
    "    Returns:\n",
    "    list of float: A new vector where each element is the product of the given number and the corresponding element in the input vector.\n",
    "    \"\"\"\n",
    "    output = [0, 0, 0]\n",
    "    assert(len(output) == len(vector))\n",
    "\n",
    "    for i in range(len(vector)): \n",
    "        output[i] = number * vector[i]\n",
    "\n",
    "    return output\n",
    "\n",
    "input = [toes[0],wlrec[0],nfans[0]]\n",
    "\n",
    "\n",
    "pred = neural_network(input, weights) # Calculate the prediction by passing the input and weights to the neural network\n",
    "error = (pred - true) ** 2 # Compute the error by taking the square of the difference between the prediction and the true value\n",
    "delta = pred - true # Calculate the delta, which is the difference between the prediction and the true value\n",
    "weight_deltas = ele_mul(delta, input) # Compute the weight deltas by multiplying the delta with each element of the input vector\n",
    "\n",
    "print(\"Pred\")\n",
    "print(pred)\n",
    "\n",
    "print(\"Error\")\n",
    "print(error)\n",
    "\n",
    "print(\"Delta\")\n",
    "print(delta)\n",
    "\n",
    "print(\"WeightDeltas\")\n",
    "print(weight_deltas)"
   ]
  },
  {
   "cell_type": "markdown",
   "metadata": {},
   "source": [
    "LEARN: Updating the weights"
   ]
  },
  {
   "cell_type": "code",
   "execution_count": 11,
   "metadata": {},
   "outputs": [
    {
     "name": "stdout",
     "output_type": "stream",
     "text": [
      "Weights:[0.1119, 0.20091, -0.09832]\n",
      "Weight Deltas:[-1.189999999999999, -0.09099999999999994, -0.16799999999999987]\n"
     ]
    }
   ],
   "source": [
    "input = [toes[0], wlrec[0], nfans[0]]  # Create the input vector using the first elements of toes, wlrec, and nfans\n",
    "\n",
    "pred = neural_network(input, weights)  # Calculate the prediction by passing the input and weights to the neural network\n",
    "\n",
    "error = (pred - true) ** 2  # Compute the error by taking the square of the difference between the prediction and the true value\n",
    "delta = pred - true  # Calculate the delta, which is the difference between the prediction and the true value\n",
    "\n",
    "weight_deltas = ele_mul(delta, input)  # Compute the weight deltas by multiplying the delta with each element of the input vector\n",
    "alpha = 0.01  # Set the learning rate to 0.01\n",
    "\n",
    "for i in range(len(weights)):  # Loop through each weight\n",
    "    weights[i] -= alpha * weight_deltas[i]  # Update each weight by subtracting the product of alpha and the corresponding weight delta\n",
    "\n",
    "print(\"Weights:\" + str(weights))  # Print the updated weights\n",
    "print(\"Weight Deltas:\" + str(weight_deltas))  # Print the weight deltas"
   ]
  }
 ],
 "metadata": {
  "kernelspec": {
   "display_name": "Python 3",
   "language": "python",
   "name": "python3"
  },
  "language_info": {
   "codemirror_mode": {
    "name": "ipython",
    "version": 3
   },
   "file_extension": ".py",
   "mimetype": "text/x-python",
   "name": "python",
   "nbconvert_exporter": "python",
   "pygments_lexer": "ipython3",
   "version": "3.9.7"
  }
 },
 "nbformat": 4,
 "nbformat_minor": 2
}
